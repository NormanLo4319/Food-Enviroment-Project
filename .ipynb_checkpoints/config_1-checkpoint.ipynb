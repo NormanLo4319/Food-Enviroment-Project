{
 "cells": [
  {
   "cell_type": "code",
   "execution_count": null,
   "metadata": {},
   "outputs": [],
   "source": [
    "ID = \"kZfKwbVYK_4yJHOY3mL6gQ\"\n",
    "yelp = \"obxkOqO4VMp8qneeDjYdwoNgO0rNCWR9tf1RUdf51kmzxfV8zaXrRDBDXfWSH7_DzPMy3kU1BsVBTwx-MzscwYzshsHphAsxaiqd10OPpAMlefPRoJbM6bx9NfaaXHYx\"\n"
   ]
  }
 ],
 "metadata": {
  "kernelspec": {
   "display_name": "Python 3",
   "language": "python",
   "name": "python3"
  },
  "language_info": {
   "codemirror_mode": {
    "name": "ipython",
    "version": 3
   },
   "file_extension": ".py",
   "mimetype": "text/x-python",
   "name": "python",
   "nbconvert_exporter": "python",
   "pygments_lexer": "ipython3",
   "version": "3.7.1"
  }
 },
 "nbformat": 4,
 "nbformat_minor": 2
}
