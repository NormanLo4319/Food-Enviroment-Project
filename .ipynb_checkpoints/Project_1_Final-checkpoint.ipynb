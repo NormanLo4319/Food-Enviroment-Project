{
 "cells": [
  {
   "cell_type": "code",
   "execution_count": null,
   "metadata": {},
   "outputs": [],
   "source": [
    "# Data Analytic Boot Camp \n",
    "# Project #1\n",
    "\n",
    "# Dependencies\n",
    "import pandas as pd\n",
    "import random\n",
    "import matplotlib.pyplot as plt\n",
    "import os\n",
    "import csv\n",
    "import requests\n",
    "import json\n",
    "import numpy as np\n",
    "import gmaps\n",
    "import time\n",
    "import plotly.plotly as py\n",
    "import plotly.tools as tls\n",
    "from scipy import stats\n",
    "from config import gkey\n",
    "from config_1 import ykey\n",
    "from config_2 import username\n",
    "from config_2 import plotkey\n",
    "\n",
    "# Since the final data frame is alreayd saved, please use the following csvpath to \n",
    "# retrieve the data frame to avoid running the API search again.\n",
    "\n",
    "# csvpath = os.path.join(\".\", \"Outputs\", \"final_data.csv\")\n",
    "# data_df = pd.read_csv(csvpath)\n",
    "\n",
    "# data_df.head()"
   ]
  },
  {
   "cell_type": "code",
   "execution_count": null,
   "metadata": {},
   "outputs": [],
   "source": [
    "# Convert data downloaded from CDC into Pandas data frame\n",
    "\n",
    "csvpath_1 = os.path.join(\".\", \"Resources\", \"DM_PREV_ALL_STATES.csv\")\n",
    "csvpath_2 = os.path.join(\".\", \"Resources\", \"OB_PREV_ALL_STATES.csv\")\n",
    "csvpath_3 = os.path.join(\".\", \"Resources\", \"co-est2017-alldata.csv\")\n",
    "csvpath_4 = os.path.join(\".\", \"Resources\", \"uscitiesv1.4.csv\")\n",
    "\n",
    "diabetes_df = pd.read_csv(csvpath_1)\n",
    "obesity_df = pd.read_csv(csvpath_2)\n",
    "population_df = pd.read_csv(csvpath_3, encoding=\"latin-1\")\n",
    "location_df = pd.read_csv(csvpath_4)\n",
    "\n",
    "# obesity_df.head()"
   ]
  },
  {
   "cell_type": "code",
   "execution_count": null,
   "metadata": {},
   "outputs": [],
   "source": [
    "# Extract the 2013 data for analysis\n",
    "diabetes_13_df = diabetes_df[[\"Diagnosed Diabetes Prevalence\", \"Unnamed: 1\", \"Unnamed: 2\",\n",
    "                          \"2013\", \"Unnamed: 67\", \"Unnamed: 70\"]]\n",
    "\n",
    "\n",
    "# Replace header with the first row\n",
    "new_header = diabetes_13_df.iloc[0]\n",
    "diabetes_13_df = diabetes_13_df[1:]\n",
    "diabetes_13_df.columns = new_header\n",
    "\n",
    "\n",
    "# diabetes_13_df.head()"
   ]
  },
  {
   "cell_type": "code",
   "execution_count": null,
   "metadata": {},
   "outputs": [],
   "source": [
    "# Extract the 2013 data for analysis\n",
    "obesity_13_df = obesity_df[[\"Obesity Prevalence\", \"Unnamed: 1\", \"Unnamed: 2\",\n",
    "                          \"2013\", \"Unnamed: 67\", \"Unnamed: 70\"]]\n",
    "\n",
    "\n",
    "# Replace header with the first row\n",
    "new_headers = obesity_13_df.iloc[0]\n",
    "obesity_13_df = obesity_13_df[1:]\n",
    "obesity_13_df.columns = new_headers\n",
    "\n",
    "\n",
    "# obesity_13_df.head()"
   ]
  },
  {
   "cell_type": "code",
   "execution_count": null,
   "metadata": {},
   "outputs": [],
   "source": [
    "# Take out \"county\" from each county\n",
    "obesity_13_df[\"County\"] = obesity_13_df[\"County\"].str[:-7]\n",
    "diabetes_13_df[\"County\"] = diabetes_13_df[\"County\"].str[:-7]\n",
    "\n",
    "# diabetes_13_df.head()"
   ]
  },
  {
   "cell_type": "code",
   "execution_count": null,
   "metadata": {},
   "outputs": [],
   "source": [
    "# Merge the obesity and diabetes table with fips code\n",
    "\n",
    "merge_table = pd.merge(diabetes_13_df, obesity_13_df, on=\"FIPS Codes\")\n",
    "\n",
    "merge_table = merge_table.drop(columns=[\"State_x\", \"County_x\", \"State_y\", \"County_y\"])\n",
    "\n",
    "# merge_table.head()"
   ]
  },
  {
   "cell_type": "code",
   "execution_count": null,
   "metadata": {},
   "outputs": [],
   "source": [
    "# Extract geo location information (lat & lng) for each county\n",
    "# location_df.head()\n",
    "\n",
    "name = []\n",
    "state = []\n",
    "fips = []\n",
    "lat = []\n",
    "lng = []\n",
    "zips = []\n",
    "\n",
    "for i in range(len(location_df[\"county_name\"])):\n",
    "    \n",
    "    try:\n",
    "        if location_df[\"county_name\"][i] != location_df[\"county_name\"][i+1]:\n",
    "            name.append(location_df[\"county_name\"][i])\n",
    "            state.append(location_df[\"state_name\"][i])\n",
    "            fips.append(location_df[\"county_fips\"][i])\n",
    "            lat.append(location_df[\"lat\"][i])\n",
    "            lng.append(location_df[\"lng\"][i])\n",
    "            zips.append(location_df[\"zips\"][i])\n",
    "    except KeyError:\n",
    "        print(\"continue\")\n",
    "    \n",
    "    \n",
    "location = {\"County_Name\": name, \"State_Name\": state,\n",
    "           \"FIPS Codes\": fips, \"lat\": lat, \"lng\": lng, \"Zip_Code\": zips}\n",
    "\n",
    "loca_df = pd.DataFrame(location)\n",
    "\n",
    "# loca_df.head()\n",
    "# print(len(loca_df))"
   ]
  },
  {
   "cell_type": "code",
   "execution_count": null,
   "metadata": {},
   "outputs": [],
   "source": [
    "# Merge the previous merged table with location table\n",
    "# The merged table is not merging with the location table properly\n",
    "# Solution: Change the FIPS codes to integer and try to merge again.\n",
    "\n",
    "# Change FIPS codes to integer for the merged table\n",
    "merge_table[\"FIPS Codes\"] = merge_table[\"FIPS Codes\"].astype(int)\n",
    "# merge_table.dtypes\n",
    "\n",
    "# Change FIPS codes to integer for the merged table\n",
    "loca_df[\"FIPS Codes\"] = loca_df[\"FIPS Codes\"].astype(int)\n",
    "# loca_df.dtypes\n",
    "\n",
    "# Merge the two tables by FIPS codes (inner merge)\n",
    "merge_table2 = pd.merge(merge_table, loca_df, on=\"FIPS Codes\")\n",
    "\n",
    "# merge_table2.head()\n",
    "# print(len(merge_table2))"
   ]
  },
  {
   "cell_type": "code",
   "execution_count": null,
   "metadata": {},
   "outputs": [],
   "source": [
    "# Merge the previous merged table with population table\n",
    "# The population data separted the FIPS codes into \"state\" and \"county\" codes\n",
    "# Need to create a new column with for the FIPS code\n",
    "\n",
    "# Create a new columne for FIPS code\n",
    "population_df[\"FIPS Codes\"] = (population_df[\"STATE\"] * 1000) + population_df[\"COUNTY\"]\n",
    "\n",
    "# Extract the population information for 2013 and FIPS code for merging\n",
    "pop_df = population_df[[\"FIPS Codes\", \"POPESTIMATE2013\"]]\n",
    "\n",
    "# Merge the population data frame with the previous\n",
    "merge_table3 = pd.merge(merge_table2, pop_df, on=\"FIPS Codes\")\n",
    "\n",
    "# merge_table3.head()"
   ]
  },
  {
   "cell_type": "code",
   "execution_count": null,
   "metadata": {},
   "outputs": [],
   "source": [
    "# Rename the column headers\n",
    "\n",
    "data_df = merge_table3.rename(index=str, columns={\n",
    "    \"number_x\": \"Survey Diabetes\",\n",
    "    \"percent_x\": \"Percent Diabetes\",\n",
    "    \"age-adjusted percent_x\": \"Age-Adjusted Percent Diabetes\",\n",
    "    \"number_y\": \"Survey Obesity\",\n",
    "    \"percent_y\": \"Percent Obesity\",\n",
    "    \"age-adjusted percent_y\": \"Age-Adjusted Percent Obesity\",\n",
    "    \"POPESTIMATE2013\": \"Population\"\n",
    "})\n",
    "\n",
    "# data_df.head()"
   ]
  },
  {
   "cell_type": "code",
   "execution_count": null,
   "metadata": {},
   "outputs": [],
   "source": [
    "# Testing Yelp API resonse\n",
    "\n",
    "# Yelp API key is stored in ykey\n",
    "# headers = {\"Authorization\": \"bearer %s\" % ykey}\n",
    "# endpoint = \"https://api.yelp.com/v3/businesses/search\"\n",
    "# data_df[\"fast_food\"] = \"\"\n",
    "\n",
    "# # Define the parameters\n",
    "# params = {\"term\": \"fast food\", \"latitude\": data_df[\"lat\"][15],\n",
    "#               \"longitude\": data_df[\"lng\"][15], \"radius\": 30000, \n",
    "#               \"categories\": \"fast food\", \"limit\": 50}\n",
    "\n",
    "# print(params)\n",
    "\n",
    "# # Make a request to the Yelp API\n",
    "# response = requests.get(url = endpoint, params = params, headers = headers)\n",
    "# data_response = response.json()\n",
    "\n",
    "# # Add the total counts of fast food stores to \"total\"\n",
    "# data_df[\"fast_food\"][15] = data_response[\"total\"]\n",
    "    \n",
    "# data.head(20)"
   ]
  },
  {
   "cell_type": "code",
   "execution_count": null,
   "metadata": {},
   "outputs": [],
   "source": [
    "# Extract fast food restaurants data by county location from Yelp\n",
    "\n",
    "# Yelp API key is stored in ykey\n",
    "headers = {\"Authorization\": \"bearer %s\" % ykey}\n",
    "endpoint = \"https://api.yelp.com/v3/businesses/search\"\n",
    "data_df[\"fast_food\"] = \"\"\n",
    "total = []\n",
    "\n",
    "for i in range(len(data)):\n",
    "    print(data_df[\"lat\"][i], data_df[\"lng\"][i])\n",
    "\n",
    "# Define the parameters\n",
    "    params = {\"term\": \"fast food\", \"latitude\": data_df[\"lat\"][i],\n",
    "              \"longitude\": data_df[\"lng\"][i], \"radius\": 30000, \n",
    "              \"categories\": \"fast food\", \"limit\": 50}\n",
    "    print(params)\n",
    "\n",
    "    try:\n",
    "# Make a request to the Yelp API\n",
    "        response = requests.get(url = endpoint, params = params, headers = headers)\n",
    "        data_response = response.json()\n",
    "\n",
    "# Add the total counts of fast food stores to \"total\"\n",
    "        print(data_response[\"total\"])\n",
    "        total.append(data_response[\"total\"])\n",
    "        data_df[\"fast_food\"][i] = data_response[\"total\"]\n",
    "        \n",
    "    except KeyError:\n",
    "        print(\"County not found!\")\n",
    "    "
   ]
  },
  {
   "cell_type": "code",
   "execution_count": null,
   "metadata": {},
   "outputs": [],
   "source": [
    "data_df.head()"
   ]
  },
  {
   "cell_type": "code",
   "execution_count": null,
   "metadata": {},
   "outputs": [],
   "source": [
    "# Add fastfood_population_ratio to the data frame\n",
    "\n",
    "# Change fast_food data type to integer for calculation\n",
    "data_df[\"fast_food\"] = data_df[\"fast_food\"].astype(int)\n",
    "# data.dtypes\n",
    "\n",
    "# Add new colume for fastfood per population ratio\n",
    "data_df[\"pop_ff_ratio\"] = (data_df[\"Population\"] / data_df[\"fast_food\"])\n",
    "\n",
    "# Calculate the mean of the ratio\n",
    "print(sum(data_df[\"pop_ff_ratio\"])/len(data_df[\"pop_ff_ratio\"]))"
   ]
  },
  {
   "cell_type": "code",
   "execution_count": null,
   "metadata": {},
   "outputs": [],
   "source": [
    "# Save the final data frame as csv file\n",
    "data_df.to_csv(\"Outputs/final_data.csv\", index=False, header=True)\n",
    "\n",
    "# Note that the csv file final_data.csv contained all the works cover above this box.\n"
   ]
  },
  {
   "cell_type": "code",
   "execution_count": null,
   "metadata": {},
   "outputs": [],
   "source": [
    "# Start cleaning the outliners in the data\n",
    "\n",
    "# Drop the location that has zero fast food restaurant\n",
    "data_df = data_df[(data_df.fast_food != 0)]\n",
    "# print(len(data_df))\n",
    "# data_df.head()\n",
    "\n",
    "# Result: data reduces to 2906 observations\n",
    "\n",
    "# Drop the location that has population-fastfood ratio over 2000\n",
    "data_df = data_df[(data_df.pop_ff_ratio <= 2000)]\n",
    "# print(len(data_df2))\n",
    "# data_df2.head()\n",
    "\n",
    "# Result: data reduces to 2302 observations"
   ]
  },
  {
   "cell_type": "code",
   "execution_count": null,
   "metadata": {},
   "outputs": [],
   "source": [
    "# Create ranking groups based on population fastfood ratio\n",
    "\n",
    "# Create bins in which data will be held\n",
    "bins_1 = [0, 500, 1500, 2000]\n",
    "\n",
    "# Create the names for the three bins\n",
    "group_names_1 = [\"High_Ratio\", \"Mid_Ratio\", \"Low_Ratio\"]\n",
    "\n",
    "data_df[\"Rank\"] = pd.cut(data_df[\"pop_ff_ratio\"], bins_1, labels=group_names_1)\n",
    "\n",
    "# data_df2.head(20)"
   ]
  },
  {
   "cell_type": "code",
   "execution_count": null,
   "metadata": {},
   "outputs": [],
   "source": [
    "# Define city type by precent of obesity\n",
    "\n",
    "# Create bins in which data will be held\n",
    "bins_2 = [0, 20, 40, 50]\n",
    "\n",
    "# Create the names for the three bins\n",
    "group_names_2 = [\"Healthy_City\", \"Average_City\", \"Poor_Health_City\"]\n",
    "\n",
    "data_df[\"Obesity_Rank\"] = pd.cut(data_df[\"Age-Adjusted Percent Obesity\"], bins_2, labels=group_names_2)\n",
    "\n",
    "# data_df.head(20)"
   ]
  },
  {
   "cell_type": "code",
   "execution_count": null,
   "metadata": {},
   "outputs": [],
   "source": [
    "# Define city type by precent of obesity\n",
    "\n",
    "# Create bins in which data will be held\n",
    "bins_3 = [0, 7.5, 15, 21]\n",
    "\n",
    "# Create the names for the three bins\n",
    "group_names_3 = [\"Healthy_City\", \"Average_City\", \"Poor_Health_City\"]\n",
    "\n",
    "data_df[\"Diabetes_Rank\"] = pd.cut(data_df[\"Age-Adjusted Percent Diabetes\"], bins_3, labels=group_names_3)\n",
    "\n",
    "# data_df.head(20)"
   ]
  },
  {
   "cell_type": "code",
   "execution_count": null,
   "metadata": {},
   "outputs": [],
   "source": [
    "# Separate the data frame into three city type groups\n",
    "healthy_data = data_df.loc[data_df[\"Obesity_Rank\"] == \"Healthy_City\"]\n",
    "average_data = data_df.loc[data_df[\"Obesity_Rank\"] == \"Average_City\"]\n",
    "poor_data = data_df.loc[data_df[\"Obesity_Rank\"] == \"Poor_Health_City\"]\n",
    "# healthy_data.head()"
   ]
  },
  {
   "cell_type": "code",
   "execution_count": null,
   "metadata": {},
   "outputs": [],
   "source": [
    "# Statistical Testing\n",
    "\n",
    "# Separate the data frame into three ratio groups\n",
    "high_ratio_data = data_df.loc[data_df[\"Rank\"] == \"High_Ratio\"]\n",
    "mid_ratio_data = data_df.loc[data_df[\"Rank\"] == \"Mid_Ratio\"]\n",
    "low_ratio_data = data_df.loc[data_df[\"Rank\"] == \"Low_Ratio\"]\n",
    "# high_ratio_data.head()\n"
   ]
  },
  {
   "cell_type": "code",
   "execution_count": null,
   "metadata": {},
   "outputs": [],
   "source": [
    "# Statistical Testing\n",
    "\n",
    "# Run t-test to check obesity rate in high ratio region is higher than the average county\n",
    "\n",
    "(t_stat_obes, p_obes) = stats.ttest_ind(data_df[\"Age-Adjusted Percent Obesity\"],\n",
    "                                        high_ratio_data[\"Age-Adjusted Percent Obesity\"])\n",
    "\n",
    "print(t_stat_obes, p_obes)"
   ]
  },
  {
   "cell_type": "code",
   "execution_count": null,
   "metadata": {},
   "outputs": [],
   "source": [
    "# Run t-test to check diabetes rate in high ratio region is higher than the average county\n",
    "\n",
    "(t_stat_dia, p_dia) = stats.ttest_ind(data_df[\"Age-Adjusted Percent Diabetes\"],\n",
    "                                        high_ratio_data[\"Age-Adjusted Percent Diabetes\"])\n",
    "\n",
    "print(t_stat_dia, p_dia)"
   ]
  },
  {
   "cell_type": "code",
   "execution_count": null,
   "metadata": {},
   "outputs": [],
   "source": [
    "# Put all t-test result into dataframe\n",
    "\n",
    "t_test = {\"Test\":[\"Obesity\", \"Diabetes\"],\n",
    "               \"T-Statistic\": [t_stat_obes, t_stat_dia],\n",
    "              \"P-Value\": [p_obes, p_dia]}\n",
    "\n",
    "obes_t_results = pd.DataFrame(t_test)\n",
    "\n",
    "obes_t_results"
   ]
  },
  {
   "cell_type": "code",
   "execution_count": null,
   "metadata": {},
   "outputs": [],
   "source": [
    "# ANOVA Test\n",
    "\n",
    "# Test to see if different popuation fastfood ratio make a different to obesity rate\n",
    "(f_stat_obes, pv_obes) = stats.f_oneway(low_ratio_data[\"Age-Adjusted Percent Obesity\"],\n",
    "                                       mid_ratio_data[\"Age-Adjusted Percent Obesity\"],\n",
    "                                        high_ratio_data[\"Age-Adjusted Percent Obesity\"])\n",
    "\n",
    "print(f_stat_obes, pv_obes)"
   ]
  },
  {
   "cell_type": "code",
   "execution_count": null,
   "metadata": {},
   "outputs": [],
   "source": [
    "# Test to see if different popuation fastfood ratio make a different to diabetes rate\n",
    "(f_stat_dia, pv_dia) = stats.f_oneway(low_ratio_data[\"Age-Adjusted Percent Diabetes\"],\n",
    "                                       mid_ratio_data[\"Age-Adjusted Percent Diabetes\"],\n",
    "                                        high_ratio_data[\"Age-Adjusted Percent Diabetes\"])\n",
    "\n",
    "print(f_stat_dia, pv_dia)"
   ]
  },
  {
   "cell_type": "code",
   "execution_count": null,
   "metadata": {},
   "outputs": [],
   "source": [
    "# Put all ANOVA results into dataframe\n",
    "\n",
    "anova = {\"Test\":[\"Obesity\", \"Diabetes\"],\n",
    "               \"F-Statistic\": [f_stat_obes, f_stat_dia],\n",
    "              \"P-Value\": [pv_obes, pv_dia]}\n",
    "\n",
    "anova_results = pd.DataFrame(anova)\n",
    "\n",
    "anova_results"
   ]
  },
  {
   "cell_type": "code",
   "execution_count": null,
   "metadata": {},
   "outputs": [],
   "source": [
    "# Regression Modeling \n",
    "# Objective: \n",
    "# 1. test the correlation between population fastfood ratio and obesity rate or diabetes rate\n",
    "# 2. If there is correlation, what is the direction of the correlation\n",
    "# 3. How is the model describe the data (goodness of fit)\n",
    "\n",
    "# Regression 1: \n",
    "# Dependent Variable: Obesity Rate\n",
    "# Independent Variable: Population fastfood Ratio\n",
    "coef_obs, inter_obs, r_sq_obs, pvalue_obs, std_err_obs = stats.linregress(data_df[\"pop_ff_ratio\"], data_df[\"Age-Adjusted Percent Obesity\"])\n",
    "\n",
    "print(\"Coefficient = \" + str(coef_obs))\n",
    "print(\"Intercept = \"+ str(inter_obs))\n",
    "print(\"R-Square = \" + str(r_sq_obs))\n",
    "print(\"P-Value = \" + str(pvalue_obs))\n",
    "print(\"Standard Error = \" + str(std_err_obs))"
   ]
  },
  {
   "cell_type": "code",
   "execution_count": null,
   "metadata": {},
   "outputs": [],
   "source": [
    "# plot the graph\n",
    "predicted_obs = coef_obs * data_df[\"pop_ff_ratio\"] + inter_obs"
   ]
  },
  {
   "cell_type": "code",
   "execution_count": null,
   "metadata": {},
   "outputs": [],
   "source": [
    "# Regression 2:\n",
    "# Dependent Variable: Diabetes Rate\n",
    "# Independent Variable: Population fastfood Ratio\n",
    "\n",
    "coef_dia, inter_dia, r_sq_dia, pvalue_dia, std_err_dia = stats.linregress(data_df[\"pop_ff_ratio\"], data_df[\"Age-Adjusted Percent Diabetes\"])\n",
    "\n",
    "print(\"Coefficient = \" + str(coef_dia))\n",
    "print(\"Intercept = \"+ str(inter_dia))\n",
    "print(\"R-Square = \" + str(r_sq_dia))\n",
    "print(\"P-Value = \" + str(pvalue_dia))\n",
    "print(\"Standard Error = \" + str(std_err_dia))"
   ]
  },
  {
   "cell_type": "code",
   "execution_count": null,
   "metadata": {},
   "outputs": [],
   "source": [
    "# plot the graph\n",
    "predicted_dia = coef_dia * data_df[\"pop_ff_ratio\"] + inter_dia"
   ]
  },
  {
   "cell_type": "code",
   "execution_count": null,
   "metadata": {},
   "outputs": [],
   "source": [
    "# Put all Regression results into dataframe\n",
    "\n",
    "reg = {\"Results\":[\"Coeffecient\", \"Intercept\", \"R^2\", \"P-Value\", \"Standard Error\"],\n",
    "               \"Obesity\": [coef_obs, inter_obs, r_sq_obs, pvalue_obs, std_err_obs],\n",
    "              \"Diabetes\": [coef_dia, inter_dia, r_sq_dia, pvalue_dia, std_err_dia]}\n",
    "\n",
    "reg_results = pd.DataFrame(reg)\n",
    "\n",
    "reg_results"
   ]
  },
  {
   "cell_type": "code",
   "execution_count": null,
   "metadata": {},
   "outputs": [],
   "source": []
  },
  {
   "cell_type": "code",
   "execution_count": null,
   "metadata": {},
   "outputs": [],
   "source": [
    "# Ploting the frequency distribution \n",
    "\n",
    "# Plotting the population fast food ratio and obesity before cleaning\n",
    "# plt.scatter(data_df[\"pop_ff_ratio\"], data_df[\"Age-Adjusted Percent Obesity\"])\n",
    "\n",
    "# plt.title(\"Population FastFood Ratio vs Obesity Rate\")\n",
    "# plt.xlabel(\"Population FastFood Ratio (people per restaurant)\")\n",
    "# plt.ylabel(\"Obesity Rate by County (%)\")\n",
    "# plt.grid()\n",
    "# plt.savefig(\"./Graphs/PFR_Obesity(Before).png\")"
   ]
  },
  {
   "cell_type": "code",
   "execution_count": null,
   "metadata": {},
   "outputs": [],
   "source": [
    "# Plotting the frequency distribution of Obesity Rate\n",
    "plt.hist(data_df[\"Age-Adjusted Percent Obesity\"], color=\"red\")\n",
    "plt.title(\"Frequency Distribution of Age-Adjusted Obesity Rate\")\n",
    "plt.xlabel(\"Age-Adjusted Percent Obesity (%)\")\n",
    "plt.ylabel(\"Frequency\")\n",
    "plt.grid()\n",
    "plt.savefig(\"./Graphs/Obesity_Rate.png\")"
   ]
  },
  {
   "cell_type": "code",
   "execution_count": null,
   "metadata": {},
   "outputs": [],
   "source": [
    "# Plotting the frequency distribution of Diabetes Rate\n",
    "plt.hist(data_df[\"Age-Adjusted Percent Diabetes\"], color=\"green\")\n",
    "plt.title(\"Frequency Distribution of Age-Adjusted Diabetes Rate\")\n",
    "plt.xlabel(\"Age-Adjusted Percent Diabetes (%)\")\n",
    "plt.ylabel(\"Frequency\")\n",
    "plt.grid()\n",
    "plt.savefig(\"./Graphs/Diabetes_Rate.png\")"
   ]
  },
  {
   "cell_type": "code",
   "execution_count": null,
   "metadata": {},
   "outputs": [],
   "source": [
    "# Plotting the population fast food ratio and obesity after cleaning\n",
    "plt.scatter(data_df[\"pop_ff_ratio\"], data_df[\"Age-Adjusted Percent Obesity\"])\n",
    "\n",
    "plt.title(\"Population FastFood Ratio vs Obesity Rate\")\n",
    "plt.xlabel(\"Population FastFood Ratio (people per restaurant)\")\n",
    "plt.ylabel(\"Obesity Rate by County (%)\")\n",
    "plt.grid()\n",
    "plt.savefig(\"./Graphs/PFR_Obesity(After).png\")"
   ]
  },
  {
   "cell_type": "code",
   "execution_count": null,
   "metadata": {},
   "outputs": [],
   "source": [
    "# Plotting the population fast food ratio and diabetes after cleaning\n",
    "plt.scatter(data_df[\"pop_ff_ratio\"], data_df[\"Age-Adjusted Percent Diabetes\"])\n",
    "\n",
    "plt.title(\"Population FastFood Ratio vs Diabetes Rate\")\n",
    "plt.xlabel(\"Population FastFood Ratio (people per restaurant)\")\n",
    "plt.ylabel(\"Diabetes Rate by County (%)\")\n",
    "plt.grid()\n",
    "plt.savefig(\"./Graphs/PFR_Diabetes(After).png\")"
   ]
  },
  {
   "cell_type": "code",
   "execution_count": null,
   "metadata": {},
   "outputs": [],
   "source": [
    "# Plotting the obesity rate and diabetes rate with population fastfood ratio\n",
    "plt.scatter(data_df[\"Age-Adjusted Percent Obesity\"], \n",
    "            data_df[\"Age-Adjusted Percent Diabetes\"],\n",
    "           s=(data_df[\"pop_ff_ratio\"])/80)\n",
    "\n",
    "plt.title(\"Obesity Rate vs. Diabetes Rate\")\n",
    "plt.xlabel(\"Age-Adjusted Percent Obesity (%)\")\n",
    "plt.ylabel(\"Age-Adjusted Percent Diabetes (%)\")\n",
    "plt.grid()\n",
    "plt.savefig(\"./Graphs/Obes_Diab_Rate.png\")"
   ]
  },
  {
   "cell_type": "code",
   "execution_count": null,
   "metadata": {},
   "outputs": [],
   "source": [
    "# Plotting the counts of high, mid, and low density counties\n",
    "\n",
    "region = [\"High Ratio\", \"Mid Ratio\", \"Low Ratio\"]\n",
    "region_counts = [len(high_ratio_data), len(mid_ratio_data), len(low_ratio_data)]\n",
    "\n",
    "x_axis = np.arange(len(region))\n",
    "\n",
    "tick_location = [0, 1, 2]\n",
    "\n",
    "plt.xticks(tick_location, region)\n",
    "\n",
    "plt.xlim(-0.75, len(x_axis)-0.25)\n",
    "\n",
    "plt.bar(x_axis, region_counts, color=[\"red\", \"orange\", \"green\"],\n",
    "       alpha=0.5, align=\"center\")\n",
    "\n",
    "for x, y in zip(x_axis, region_counts):\n",
    "    plt.text(x, y, str(y))\n",
    "\n",
    "plt.title(\"Number of County by Ratio Rank\")\n",
    "plt.xlabel(\"Population FastFood Ratio Rank\")\n",
    "plt.ylabel(\"Total Number of Counts\")\n",
    "plt.savefig(\"./Graphs/County_Rank_Count.png\")"
   ]
  },
  {
   "cell_type": "code",
   "execution_count": null,
   "metadata": {},
   "outputs": [],
   "source": [
    "# Create Pie Chart to show the proportion of the density level\n",
    "\n",
    "# Pie Chart for Density Rank\n",
    "\n",
    "pies = [\"High Ratio\", \"Mid Ratio\", \"Low Ratio\"]\n",
    "pie_counts = [len(high_ratio_data), len(mid_ratio_data), len(low_ratio_data)]\n",
    "colors = [\"red\", \"orange\", \"green\"]\n",
    "explode = (0.2, 0.1, 0.1)\n",
    "\n",
    "plt.pie(pie_counts, explode=explode, labels=pies, colors=colors,\n",
    "       autopct=\"%1.2f%%\", shadow=True, startangle=90)\n",
    "\n",
    "plt.axis(\"equal\")\n",
    "plt.title(\"Proportion of Density Level Regions\")\n",
    "plt.savefig(\"./Graphs/County_Rank_Proportion.png\")"
   ]
  },
  {
   "cell_type": "code",
   "execution_count": null,
   "metadata": {},
   "outputs": [],
   "source": [
    "# Plotting regression line for obesity rate\n",
    "plt.scatter(data_df[\"pop_ff_ratio\"], data_df[\"Age-Adjusted Percent Obesity\"])\n",
    "plt.plot(data_df[\"pop_ff_ratio\"], predicted_obs, color=\"red\", label=\"Regression Line\")\n",
    "\n",
    "plt.title(\"Population FastFood Ratio vs Obesity Rate (Regression Line)\")\n",
    "plt.xlabel(\"Population FastFood Ratio (people per restaurant)\")\n",
    "plt.ylabel(\"Obesity Rate by County (%)\")\n",
    "plt.savefig(\"./Graphs/PFR_Obesity(Regression_Line).png\")"
   ]
  },
  {
   "cell_type": "code",
   "execution_count": null,
   "metadata": {},
   "outputs": [],
   "source": [
    "# Plotting regression line for diabetes rate\n",
    "plt.scatter(data_df[\"pop_ff_ratio\"], data_df[\"Age-Adjusted Percent Diabetes\"])\n",
    "plt.plot(data_df[\"pop_ff_ratio\"], predicted_dia, color=\"orange\", label=\"Regression Line\")\n",
    "\n",
    "plt.title(\"Population FastFood Ratio vs Diabetes Rate (Regression Line)\")\n",
    "plt.xlabel(\"Population FastFood Ratio (people per restaurant)\")\n",
    "plt.ylabel(\"Diabetes Rate by County (%)\")\n",
    "plt.savefig(\"./Graphs/PFR_Diabetes(Regression_Line).png\")"
   ]
  },
  {
   "cell_type": "code",
   "execution_count": null,
   "metadata": {},
   "outputs": [],
   "source": [
    "# Plotting the obesity rate and diabetes rate with population fastfood ratio by ranked counties\n",
    "plt.scatter(high_ratio_data[\"Age-Adjusted Percent Obesity\"], \n",
    "            high_ratio_data[\"Age-Adjusted Percent Diabetes\"],\n",
    "           s=(high_ratio_data[\"pop_ff_ratio\"])/200, color=\"red\")\n",
    "\n",
    "plt.scatter(mid_ratio_data[\"Age-Adjusted Percent Obesity\"], \n",
    "            mid_ratio_data[\"Age-Adjusted Percent Diabetes\"],\n",
    "           s=(mid_ratio_data[\"pop_ff_ratio\"])/200, color=\"orange\")\n",
    "\n",
    "plt.scatter(low_ratio_data[\"Age-Adjusted Percent Obesity\"], \n",
    "            low_ratio_data[\"Age-Adjusted Percent Diabetes\"],\n",
    "           s=(low_ratio_data[\"pop_ff_ratio\"])/200, color=\"green\")\n",
    "\n",
    "plt.title(\"Obesity Rate vs. Diabetes Rate\")\n",
    "plt.xlabel(\"Age-Adjusted Percent Obesity (%)\")\n",
    "plt.ylabel(\"Age-Adjusted Percent Diabetes (%)\")\n",
    "plt.savefig(\"./Graphs/Obes_Diab_Rate_Ranked.png\")"
   ]
  },
  {
   "cell_type": "code",
   "execution_count": null,
   "metadata": {},
   "outputs": [],
   "source": [
    "# Creating heatmap to shows the population fastfood ratio\n",
    "\n",
    "tls.set_credentials_file(username=username, api_key=plotkey)\n",
    "\n",
    "scl = [[0, \"rgb(225,40,0)\"], [500, \"rgb(225,130,0)\"], \n",
    "       [1500, \"rgb(235,250,50)\"], [2000, \"rgb(80,220,155)\"]]\n",
    "\n",
    "data = [dict(type=\"scattergeo\", locationmode=\"USA-states\", lon=data_df[\"lng\"] , lat=data_df[\"lat\"] , \n",
    "             marker=dict(size=5, autocolorscale=False, colorscale=scl, color=data_df[\"pop_ff_ratio\"] , \n",
    "                         colorbar=dict(title=\"Popluation & Fast Food Ratio\")))]\n",
    "\n",
    "layout = dict(title=\"Population & Fast Food Ratio Map\", colorbar=True, geo=dict(scope=\"usa\", projection=dict(type=\"alber usa\"), \n",
    "                                               landcolor=\"rgb(180,200,200)\", subunitcolor=\"rgb(50,50,50)\",\n",
    "                                               countrycolor=\"rgb(50,50,50)\", countrywidth=0.5, subunitweight=0.5))\n",
    "\n",
    "fig = dict(data=data, layout=layout)\n",
    "\n",
    "py.iplot(fig,validate=False, filenamen=\"Fast Food Restaurant Heat Map\")"
   ]
  },
  {
   "cell_type": "code",
   "execution_count": null,
   "metadata": {},
   "outputs": [],
   "source": []
  }
 ],
 "metadata": {
  "kernelspec": {
   "display_name": "Python 3",
   "language": "python",
   "name": "python3"
  },
  "language_info": {
   "codemirror_mode": {
    "name": "ipython",
    "version": 3
   },
   "file_extension": ".py",
   "mimetype": "text/x-python",
   "name": "python",
   "nbconvert_exporter": "python",
   "pygments_lexer": "ipython3",
   "version": "3.7.1"
  }
 },
 "nbformat": 4,
 "nbformat_minor": 2
}
